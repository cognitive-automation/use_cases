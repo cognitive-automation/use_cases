{
 "cells": [
  {
   "cell_type": "code",
   "execution_count": 350,
   "metadata": {},
   "outputs": [],
   "source": [
    "import pandas as pd\n",
    "import numpy as np\n",
    "import re\n",
    "import pickle\n",
    "import os\n",
    "import matplotlib.pyplot as plt\n",
    "from wordcloud import WordCloud\n",
    "\n",
    "from sklearn.feature_extraction.text import TfidfVectorizer, CountVectorizer\n",
    "from sklearn import model_selection, naive_bayes, svm\n",
    "from sklearn.metrics import accuracy_score, confusion_matrix\n",
    "from sklearn.metrics import classification_report\n",
    "from sklearn.preprocessing import LabelEncoder\n",
    "from sklearn.utils.multiclass import unique_labels\n",
    "\n",
    "from nltk.tokenize import word_tokenize\n",
    "from nltk.stem.snowball import SnowballStemmer, GermanStemmer\n",
    "from nltk.corpus import stopwords\n",
    "deut_stopwords = stopwords.words('german')"
   ]
  },
  {
   "cell_type": "markdown",
   "metadata": {},
   "source": [
    "## Data Loading\n",
    "Loading the data saved by the collection notebook."
   ]
  },
  {
   "cell_type": "code",
   "execution_count": 351,
   "metadata": {},
   "outputs": [],
   "source": [
    "# load the data\n",
    "# mind delimiter and encoding\n",
    "# added column names to use it as a dataframe\n",
    "Corpus = pd.read_csv(os.path.join(\"./data\", \"output.csv\"), encoding='utf-8', delimiter=';' ,names = ['topic', 'text'])"
   ]
  },
  {
   "cell_type": "code",
   "execution_count": 352,
   "metadata": {},
   "outputs": [
    {
     "data": {
      "text/html": [
       "<div>\n",
       "<style scoped>\n",
       "    .dataframe tbody tr th:only-of-type {\n",
       "        vertical-align: middle;\n",
       "    }\n",
       "\n",
       "    .dataframe tbody tr th {\n",
       "        vertical-align: top;\n",
       "    }\n",
       "\n",
       "    .dataframe thead th {\n",
       "        text-align: right;\n",
       "    }\n",
       "</style>\n",
       "<table border=\"1\" class=\"dataframe\">\n",
       "  <thead>\n",
       "    <tr style=\"text-align: right;\">\n",
       "      <th></th>\n",
       "      <th>topic</th>\n",
       "      <th>text</th>\n",
       "    </tr>\n",
       "  </thead>\n",
       "  <tbody>\n",
       "    <tr>\n",
       "      <th>0</th>\n",
       "      <td>internet</td>\n",
       "      <td>Hallo Leute,  habe den Mobilen-Tarif ...</td>\n",
       "    </tr>\n",
       "    <tr>\n",
       "      <th>1</th>\n",
       "      <td>internet</td>\n",
       "      <td>Seit der Geschichte mit dem angeblich...</td>\n",
       "    </tr>\n",
       "    <tr>\n",
       "      <th>2</th>\n",
       "      <td>internet</td>\n",
       "      <td>Hallo, meine alten erstellen Alias Ad...</td>\n",
       "    </tr>\n",
       "    <tr>\n",
       "      <th>3</th>\n",
       "      <td>internet</td>\n",
       "      <td>Hallo! Hoffe sehr auf Hilfe. Ich habe...</td>\n",
       "    </tr>\n",
       "    <tr>\n",
       "      <th>4</th>\n",
       "      <td>internet</td>\n",
       "      <td>Hallo! Ich habe folgendes Problem:  W...</td>\n",
       "    </tr>\n",
       "  </tbody>\n",
       "</table>\n",
       "</div>"
      ],
      "text/plain": [
       "      topic                                               text\n",
       "0  internet           Hallo Leute,  habe den Mobilen-Tarif ...\n",
       "1  internet           Seit der Geschichte mit dem angeblich...\n",
       "2  internet           Hallo, meine alten erstellen Alias Ad...\n",
       "3  internet           Hallo! Hoffe sehr auf Hilfe. Ich habe...\n",
       "4  internet           Hallo! Ich habe folgendes Problem:  W..."
      ]
     },
     "execution_count": 352,
     "metadata": {},
     "output_type": "execute_result"
    }
   ],
   "source": [
    "Corpus.head()"
   ]
  },
  {
   "cell_type": "markdown",
   "metadata": {},
   "source": [
    "## Text Cleaning\n",
    "First we want to get a base line and an idea if our data is good enough for our task. We are using a Support Vector Machine as a first model. For vectorization of the words we will use tfidf here. As we are not using word embeddings with deep learning like word2vec yet, we have to do a lot of text cleaning. This is because we want a word space as small as possible with the most informations we can get. The steps include:\n",
    "* Removing single characters and multiple spaces\n",
    "* lowering the letters - sometimes not a good idea e.g. die 'Messe' vs. ich 'messe' here the words have a different meaning\n",
    "* Tokenization - convert sentences to words\n",
    "* Removing unnecessary punctuation, tags\n",
    "* Removing stop words — frequent words such as ”die”, ”ist”, etc. that do not have specific semantic\n",
    "* Stemming — words are reduced to a root by removing inflection through dropping unnecessary characters, usually a suffix."
   ]
  },
  {
   "cell_type": "code",
   "execution_count": 353,
   "metadata": {},
   "outputs": [],
   "source": [
    "stemmer1 = SnowballStemmer(\"german\")\n",
    "stemmer1.stemmer._GermanStemmer__step3_suffixes += (\"in\",\"end\") #add \"in\" to the step 3 suffixes\n",
    "\n",
    "stemmer2 = GermanStemmer()\n",
    "stemmer2._GermanStemmer__step3_suffixes += (\"in\",\"end\")"
   ]
  },
  {
   "cell_type": "code",
   "execution_count": 354,
   "metadata": {},
   "outputs": [],
   "source": [
    "def cleaning_pipeline(Corpus):\n",
    "    # Remove blank rows\n",
    "    Corpus.dropna(inplace=True)\n",
    "    # Remove all single characters\n",
    "    Corpus['text'] = [re.sub(r'\\s+[a-zA-Z]\\s+', ' ', text) \n",
    "                      for text in Corpus['text']]\n",
    "    # Remove single characters from the start\n",
    "    Corpus['text'] = [re.sub(r'\\^[a-zA-Z]\\s+', ' ', text)\n",
    "                      for text in Corpus['text']]\n",
    "    # Substituting multiple spaces with single space\n",
    "    Corpus['text'] = [re.sub(r'\\s+', ' ', text, flags=re.I)\n",
    "                      for text in Corpus['text']]\n",
    "    # Change all the text to lower case\n",
    "    Corpus['text'] = [entry.lower() for entry in Corpus['text']]\n",
    "    # Tokenization : In this each entry in the corpus will be broken into set of words\n",
    "    Corpus['text']= [word_tokenize(entry) for entry in Corpus['text']]\n",
    "    for index,entry in enumerate(Corpus['text']):\n",
    "        # Declaring empty List to store the words that follow the rules for this step\n",
    "        Final_words = []\n",
    "        for word in entry:\n",
    "            # Below condition is to check for Stop words and consider only alphabets\n",
    "            # stemmer1 and stemmer2 are stemming german words in two different ways\n",
    "            # through doing both we get the most out of it\n",
    "            if word not in deut_stopwords and word.isalpha():\n",
    "                fin_word = stemmer2.stem(stemmer1.stem(word))\n",
    "                Final_words.append(fin_word)\n",
    "        # The final processed set of words for each iteration will be stored in 'text_final'\n",
    "        Corpus.loc[index,'text_final'] = str(Final_words)\n",
    "    # Remove blank rows\n",
    "    Corpus.dropna(inplace=True)"
   ]
  },
  {
   "cell_type": "code",
   "execution_count": 355,
   "metadata": {},
   "outputs": [],
   "source": [
    "# make sure to have the start Corpus to print out examples in testing\n",
    "Testing_Corpus = Corpus.copy()\n",
    "# running cleaning on Cropus\n",
    "cleaning_pipeline(Corpus)"
   ]
  },
  {
   "cell_type": "markdown",
   "metadata": {},
   "source": [
    "## Train and Evaluate the Model\n",
    "For a first model we are just trying a basic approach. The vectorization will be tfidf and the model Support Vector Machine.\n",
    "* splitting train and test data\n",
    "* encode topic classes to numeric classes\n",
    "* create a tfidf vector presentation - just chosing 1500 as max_features for a first try. This can be tweaked a lot by grid searc\n",
    "* train the naive bayes classifier"
   ]
  },
  {
   "cell_type": "code",
   "execution_count": 356,
   "metadata": {},
   "outputs": [],
   "source": [
    "Train_X, Test_X, Train_Y, Test_Y = model_selection.train_test_split(Corpus['text_final'],Corpus['topic'],test_size=0.3)"
   ]
  },
  {
   "cell_type": "code",
   "execution_count": 357,
   "metadata": {},
   "outputs": [],
   "source": [
    "Encoder = LabelEncoder()\n",
    "Train_Y = Encoder.fit_transform(Train_Y)\n",
    "Test_Y = Encoder.fit_transform(Test_Y)"
   ]
  },
  {
   "cell_type": "code",
   "execution_count": 358,
   "metadata": {},
   "outputs": [],
   "source": [
    "Tfidf_vect = TfidfVectorizer()\n",
    "Tfidf_vect.fit(Corpus['text_final'])\n",
    "Train_X_Tfidf = Tfidf_vect.transform(Train_X)\n",
    "Test_X_Tfidf = Tfidf_vect.transform(Test_X)"
   ]
  },
  {
   "cell_type": "code",
   "execution_count": 366,
   "metadata": {},
   "outputs": [],
   "source": [
    "topics = ['internet', 'smartphones', 'tv', 'vertrag']"
   ]
  },
  {
   "cell_type": "code",
   "execution_count": 367,
   "metadata": {},
   "outputs": [],
   "source": [
    "def plot_confusion_matrix(y_true, y_pred, classes,\n",
    "                          normalize=False,\n",
    "                          title=None,\n",
    "                          cmap=plt.cm.Blues):\n",
    "    \"\"\"\n",
    "    This function prints and plots the confusion matrix.\n",
    "    Normalization can be applied by setting `normalize=True`.\n",
    "    \"\"\"\n",
    "    if not title:\n",
    "        if normalize:\n",
    "            title = 'Normalized confusion matrix'\n",
    "        else:\n",
    "            title = 'Confusion matrix, without normalization'\n",
    "\n",
    "    # Compute confusion matrix\n",
    "    cm = confusion_matrix(y_true, y_pred)\n",
    "    # Only use the labels that appear in the data\n",
    "    classes = classes[unique_labels(y_true, y_pred)]\n",
    "    if normalize:\n",
    "        cm = cm.astype('float') / cm.sum(axis=1)[:, np.newaxis]\n",
    "        print(\"Normalized confusion matrix\")\n",
    "    else:\n",
    "        print('Confusion matrix, without normalization')\n",
    "\n",
    "    print(cm)\n",
    "\n",
    "    fig, ax = plt.subplots()\n",
    "    im = ax.imshow(cm, interpolation='nearest', cmap=cmap)\n",
    "    ax.figure.colorbar(im, ax=ax)\n",
    "    # We want to show all ticks...\n",
    "    ax.set(xticks=np.arange(cm.shape[1]),\n",
    "           yticks=np.arange(cm.shape[0]),\n",
    "           # ... and label them with the respective list entries\n",
    "           xticklabels=classes, yticklabels=classes,\n",
    "           title=title,\n",
    "           ylabel='True label',\n",
    "           xlabel='Predicted label')\n",
    "\n",
    "    # Rotate the tick labels and set their alignment.\n",
    "    plt.setp(ax.get_xticklabels(), rotation=45, ha=\"right\",\n",
    "             rotation_mode=\"anchor\")\n",
    "\n",
    "    # Loop over data dimensions and create text annotations.\n",
    "    fmt = '.2f' if normalize else 'd'\n",
    "    thresh = cm.max() / 2.\n",
    "    for i in range(cm.shape[0]):\n",
    "        for j in range(cm.shape[1]):\n",
    "            ax.text(j, i, format(cm[i, j], fmt),\n",
    "                    ha=\"center\", va=\"center\",\n",
    "                    color=\"white\" if cm[i, j] > thresh else \"black\")\n",
    "    fig.tight_layout()\n",
    "    return ax"
   ]
  },
  {
   "cell_type": "code",
   "execution_count": 368,
   "metadata": {
    "scrolled": false
   },
   "outputs": [
    {
     "name": "stdout",
     "output_type": "stream",
     "text": [
      "SVM Accuracy Score ->  82.38391574916227\n",
      "\n",
      "SVM Classification Report ->\n",
      "                precision    recall  f1-score   support\n",
      "\n",
      "    internet       0.82      0.89      0.85      1018\n",
      " smartphones       0.86      0.78      0.82       338\n",
      "          tv       0.90      0.74      0.81       163\n",
      "     vertrag       0.80      0.76      0.78       570\n",
      "\n",
      "   micro avg       0.82      0.82      0.82      2089\n",
      "   macro avg       0.84      0.79      0.81      2089\n",
      "weighted avg       0.83      0.82      0.82      2089\n",
      "\n",
      "\n",
      "SVM Confusion Matrix ->\n",
      " \n",
      "Confusion matrix, without normalization\n",
      "[[905  15  14  84]\n",
      " [ 55 264   0  19]\n",
      " [ 37   2 120   4]\n",
      " [113  25   0 432]]\n"
     ]
    },
    {
     "data": {
      "image/png": "[encoded data removed]",
      "text/plain": [
       "<Figure size 432x288 with 2 Axes>"
      ]
     },
     "metadata": {
      "needs_background": "light"
     },
     "output_type": "display_data"
    }
   ],
   "source": [
    "# Classifier - Algorithm - SVM\n",
    "# fit the training dataset on the classifier\n",
    "SVM = svm.SVC(C=1.0, kernel='linear', degree=3, gamma='auto')\n",
    "SVM.fit(Train_X_Tfidf,Train_Y)\n",
    "# predict the labels on validation dataset\n",
    "predictions_SVM = SVM.predict(Test_X_Tfidf)\n",
    "# Use accuracy_score function to get the accuracy\n",
    "print(\"SVM Accuracy Score -> \",\n",
    "      accuracy_score(Test_Y, predictions_SVM)*100)\n",
    "\n",
    "print(\"\\nSVM Classification Report ->\\n \",\n",
    "     classification_report(Test_Y, \n",
    "                           predictions_SVM,\n",
    "                           target_names=topics))\n",
    "\n",
    "print(\"\\nSVM Confusion Matrix ->\\n \")\n",
    "\n",
    "plot_confusion_matrix(Test_Y, \n",
    "                      predictions_SVM,\n",
    "                      classes=np.array(topics))\n",
    "plt.show()"
   ]
  },
  {
   "cell_type": "markdown",
   "metadata": {},
   "source": [
    "## Test the Model\n",
    "Now let's look at a quick example from our data. As we have changed the corups already I will just take examples from there. Normally one has to do the same steps again for testing examples to make sure the model understands the input."
   ]
  },
  {
   "cell_type": "code",
   "execution_count": 392,
   "metadata": {},
   "outputs": [],
   "source": [
    "examples = np.random.randint(0,len(Corpus),5)"
   ]
  },
  {
   "cell_type": "code",
   "execution_count": 393,
   "metadata": {},
   "outputs": [
    {
     "name": "stdout",
     "output_type": "stream",
     "text": [
      "tv :\n",
      "\n",
      "         Hallo, ich habe eine Frage zu Sky: Kann man die Sky-TV-Sender aufnehmen und die Sendungen speichern? ich habe diesbezüglich keine Informationen gefunden. Und kann man sky nach einem Jahr weiterhin zum günstigeren Preis behalten, wenn man kündigt?                                  \n",
      "\n",
      "The predicted topic class is: tv \n",
      "\n",
      "vertrag :\n",
      "\n",
      "         Hallo Zusammen!Wollte mal fragen ob sich sonst jemand im Aktionszeitraum bis einschließlich 5.9.2013 ein HTC One oder HTC One Mini im Onlineshop bestellt hat - habe jetzt probleme die versprochenen punkte zu bekommen!Ich habe am 4.9. die Aktion auf der Startseite der Homepage entdeckt:bei umstieg auf die oben genannten handys bis 5.9. gibts beim kauf im onlineshop sofort 2000 Mobilpoints, die weiteren 1000 werden dann nach ende das aktionszeitraums aufs kundenkonto gutgeschrieben.Bestellung und die ersten 2000 punkte haben einwandfrei funktioniert, die weiteren 1000 habe ich noch nicht erhalten!hab heute bei längere telefonate mit der serviceline und auch mit dem onlineshopservice geführt, dort will keiner etwas von der abgelaufenen aktion wissen. Man sieht zwar die vergangenen aktionen, diese ist angeblich aber nicht dabei...ich habe damals natürlich auch keinene screenshot oder foto von der homepage gemacht um später beweisen zu können dass es sie gibt, mit solchen problemen rechnet man ja als langjähriger zufriedener kunde nicht.irgendiwe muss es doch eine homepagebetreuung, webmaster,... geben der die vergangenen homepagedaten zeigen kann.Hat sonst noch jemand diese Aktion genützt, oder sie zumindest gesehen?ich hoffe auf baldige aufklärung, eine mailanfrage wurde auch schon verschickt.mfg, Ulrich Kiesl   \n",
      "\n",
      "The predicted topic class is: smartphones \n",
      "\n",
      "vertrag :\n",
      "\n",
      "         Hi A1 Com   Ich habe Anfang Nov. 2012 einen neuen A1 Vertrag abgeschlossen.   Im A1 Shop Wien 6   Mit einem Member Code, da hat alles gepasst bei der Anmeldung   Smart Unlimited und iPhone 5   Bonus bei Member keine Aktievierungs Kosten keine Sim Pauschale und die Grundgebühr 48 Euro statt 60 Euro   nun habe ich die erste Rechnung bekommen, und da habe ich gleich 148 Euro Kosten   die Rechnung sollte aber ca 70 Euro ausmachen.   mit Aktierungskosten mit Sim Pauschale und 60 Euro Grundgebühr   habe gleich bei der A1 Hotline angerufen aber leider, sagen mir die jetzt das es nicht passt.   Warum passt alles im A1 Shop und bei der Hotline weis keiner drüber Bescheid.   Der Member Code war für mich ein Kaufgrund bei A1, und nun das.   Da mir keiner bei der Hotline weiterhelfen kann, versuche ich es nun über diese Community, weil die mir scho bei sehr vielen Fragen geholfen hat.   Ich kann auch gerne nochmal den Gutschein Code und GID Nummer hergeben, habe ich auch bei der Hotline versucht aber die machen das nicht.     Bitte um Eure Hilfe     LG Steven           \n",
      "\n",
      "The predicted topic class is: vertrag \n",
      "\n",
      "internet :\n",
      "\n",
      "         Liebes A1 Team,   wir haben in unserem Haus mehrere Technisat Satelitenreciever (Digicorder Isio S u. Digit Isio S) in Verwendung. Alle sind über W-Lan mit dem Internet verbunden und greifen so auf verschiedene Dienste (HbbtTV, Mediatheken, Watchmi, usw. zu). Seit dem Zwangsupdate auf E_3.2.3 ist keine Verbindung mehr möglich. Wir haben in den letzten Tagen alles uns mögliche versucht (Reset von Modem und Receiver, Vergabe von statische IP, Änderung der Verschlüsselung,....), jedoch alles ohne Erfolg.   Es liegt definitiv an der neuen Firmware, denn (vor ca. 1 1/2 Jahren) nach dem Update auf E_3.1.0 hatten wir den selben \"Zirkus\" - erst ein Downgrade auf 5.3.5 schaffte Abhilfe und seit dem funktionierte wieder alles einwandfrei.   Da wir gerade Mediatheken über HbbTV sehr häufig verwenden, sind wir echt am verzweifeln.   Wir bitten um Hilfestellung (eventuell neues Modem???)   Mit freundlichen Grüßen   Thomas J. \n",
      "\n",
      "The predicted topic class is: internet \n",
      "\n",
      "vertrag :\n",
      "\n",
      "         Hallo zusammen,   wie kann ich mein A1 Komplettpaket kündigen? Habe diverse Schritte verfolgt- hat aber alles nicht funktioniert!!   Lg Mike   \n",
      "\n",
      "The predicted topic class is: internet \n",
      "\n"
     ]
    }
   ],
   "source": [
    "# using cleaned text\n",
    "for example in examples:\n",
    "    example_text = Corpus['text'][example]\n",
    "    example_topic = Corpus['topic'][example]\n",
    "    Example_Tfidf = Tfidf_vect.transform(pd.Series([str(example_text)], name=\"example\"))\n",
    "    print(Testing_Corpus.iloc[example]['topic'], \":\\n\")\n",
    "    print(Testing_Corpus.iloc[example]['text'], \"\\n\")\n",
    "    print('The predicted topic class is:', topics[SVM.predict(Example_Tfidf)[0]],\"\\n\")"
   ]
  },
  {
   "cell_type": "markdown",
   "metadata": {},
   "source": [
    "So we got a first baseline model. Now let's see in adjustments what we can tweak out with more advanced tools."
   ]
  },
  {
   "cell_type": "markdown",
   "metadata": {},
   "source": [
    "## Save the model"
   ]
  },
  {
   "cell_type": "code",
   "execution_count": 394,
   "metadata": {},
   "outputs": [],
   "source": [
    "# save the model to disk\n",
    "filename = 'first_model.sav'\n",
    "if not os.path.isdir(\"./models\"):\n",
    "    os.mkdir(\"./models\")\n",
    "pickle.dump(SVM, open(os.path.join(\"./models\", filename), 'wb'))"
   ]
  },
  {
   "cell_type": "code",
   "execution_count": null,
   "metadata": {},
   "outputs": [],
   "source": []
  }
 ],
 "metadata": {
  "kernelspec": {
   "display_name": "Python 3",
   "language": "python",
   "name": "python3"
  },
  "language_info": {
   "codemirror_mode": {
    "name": "ipython",
    "version": 3
   },
   "file_extension": ".py",
   "mimetype": "text/x-python",
   "name": "python",
   "nbconvert_exporter": "python",
   "pygments_lexer": "ipython3",
   "version": "3.6.8"
  }
 },
 "nbformat": 4,
 "nbformat_minor": 2
}
